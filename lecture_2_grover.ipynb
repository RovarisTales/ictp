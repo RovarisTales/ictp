{
 "cells": [
  {
   "cell_type": "markdown",
   "id": "advance-helmet",
   "metadata": {},
   "source": [
    "##### Concurrency 2021/2022 - Computer Science\n",
    "# Lecture 4 - Grover's Algorithm\n",
    "\n",
    "1. [Grover's Algorithm](#Grover)\n",
    "   1. [Unstructured search](#unstructured-search)\n",
    "   2. [Oracle](#oracle_intro)\n",
    "   3. [Amplitude Amplification](#amplitude_amp)\n",
    "2. [Grover's algorithm with 2 qubits](#grover2)\n",
    "3. [Grover's algorithm with 3 qubits](#grover3)"
   ]
  },
  {
   "cell_type": "code",
   "execution_count": 3,
   "id": "6869ae59",
   "metadata": {},
   "outputs": [],
   "source": [
    "from qiskit import QuantumCircuit, ClassicalRegister, QuantumRegister, Aer, execute\n",
    "from qiskit.tools.visualization import plot_histogram, plot_distribution\n",
    "import matplotlib.pyplot as plt\n",
    "import numpy as np"
   ]
  },
  {
   "cell_type": "markdown",
   "id": "2572dc42",
   "metadata": {},
   "source": [
    "##### Function for executing circuits"
   ]
  },
  {
   "cell_type": "code",
   "execution_count": 4,
   "id": "60b1154e",
   "metadata": {},
   "outputs": [],
   "source": [
    "def execute_circuit(qc, shots=1024, decimal=False, reversed=False):\n",
    "    \n",
    "    #define backend\n",
    "    device = Aer.get_backend('qasm_simulator')\n",
    "    #get counts\n",
    "    counts = execute(qc, device, shots=shots).result().get_counts()\n",
    "    \n",
    "    if decimal:\n",
    "        if reversed:\n",
    "            counts = dict((int(a[::-1],2),b) for (a,b) in counts.items())\n",
    "        else:\n",
    "            counts = dict((int(a,2),b) for (a,b) in counts.items())\n",
    "    else:\n",
    "        if reversed:\n",
    "            counts = dict((a[::-1],b) for (a,b) in counts.items())\n",
    "        else:\n",
    "            counts = dict((a,b) for (a,b) in counts.items())\n",
    "\n",
    "    return counts"
   ]
  },
  {
   "cell_type": "markdown",
   "id": "aed9076f",
   "metadata": {},
   "source": [
    "## 1. Grover's algorithm <a id=\"grover\"></a>"
   ]
  },
  {
   "cell_type": "markdown",
   "id": "5ba8a226",
   "metadata": {},
   "source": [
    "Grover's algorithm is one of the most powerful quantum algorithms. The algorithm is known for a quadratic speed up in searching for an element in an **unstructured database**. \n",
    "\n",
    "However, Grover's algorithm can be generalized to a variety of problems:\n",
    "* Finding minimum/maximum/mean \n",
    "* Collision problem \n",
    "* Satisfiability \n",
    "* Optimization in general. \n",
    "* Any problem that can be restated as a search problem! BUT, it should be unstructured otherwise classical computers can do better. Specifically, search solutions to NP problems (where a good solution is hard to find, but easily verified)."
   ]
  },
  {
   "cell_type": "markdown",
   "id": "3504b7fd",
   "metadata": {},
   "source": [
    "### Unstructured Search <a id=\"unstructured-search\"></a>\n",
    "\n",
    "Suppose you have an array of $N$ items. Consider that $w$ for winner is the element we want to find. \n",
    "\n",
    "![image1](images/list.png)\n",
    "\n",
    "Classic $\\quad \\Rightarrow \\quad \\mathcal{O}(N)$\n",
    "\n",
    "Quantum $\\quad \\Rightarrow \\quad \\mathcal{O}(\\sqrt{N})$"
   ]
  },
  {
   "cell_type": "markdown",
   "id": "0ef253e9",
   "metadata": {},
   "source": [
    "### Oracle\n",
    "\n",
    "Notice that we want to exploit the superposition principle, therefore, all entries in the above database will happen at the same time! Thus, for us, the database is composed by all computational basis states our qubits can be in.\n",
    "\n",
    "The oracle $U_w$ adds a negative phase to the solution states i.e. for any state $|x\\rangle$ in the computational basis corresponding to the winner:\n",
    "\n",
    "$$\n",
    "U_\\omega|x\\rangle = \\bigg\\{\n",
    "\\begin{aligned}\n",
    "\\phantom{-}|x\\rangle \\quad \\text{if} \\; x \\neq \\omega \\\\\n",
    "-|x\\rangle \\quad \\text{if} \\; x = \\omega \\\\\n",
    "\\end{aligned}\n",
    "$$\n",
    "\n",
    "This oracle will be a diagonal matrix, where the entry that correspond to the marked item will have a negative phase. For example, if we have three qubits and $\\omega = \\text{101}$, our oracle will have the matrix:\n",
    "\n",
    "$$\n",
    "U_\\omega = \n",
    "\\begin{bmatrix}\n",
    "1 & 0 & 0 & 0 & 0 & 0 & 0 & 0 \\\\\n",
    "0 & 1 & 0 & 0 & 0 & 0 & 0 & 0 \\\\\n",
    "0 & 0 & 1 & 0 & 0 & 0 & 0 & 0 \\\\\n",
    "0 & 0 & 0 & 1 & 0 & 0 & 0 & 0 \\\\\n",
    "0 & 0 & 0 & 0 & 1 & 0 & 0 & 0 \\\\\n",
    "0 & 0 & 0 & 0 & 0 & -1 & 0 & 0 \\\\\n",
    "0 & 0 & 0 & 0 & 0 & 0 & 1 & 0 \\\\\n",
    "0 & 0 & 0 & 0 & 0 & 0 & 0 & 1 \\\\\n",
    "\\end{bmatrix}\n",
    "\\begin{aligned}\n",
    "\\\\\n",
    "\\\\\n",
    "\\\\\n",
    "\\\\\n",
    "\\\\\n",
    "\\leftarrow \\omega = \\text{101}\\\\\n",
    "\\\\\n",
    "\\\\\n",
    "\\\\\n",
    "\\end{aligned}\n",
    "$$\n",
    "\n",
    "\n",
    "In many computational problems it’s difficult to _find_ a solution, but relatively easy to _verify_ a solution (NP problems). For instance, **chess**. For these problems, we can create a function $f$ that takes a proposed solution $x$, the position of pieces in the board and returns $f(x) = 0$ if $x$ is not a solution ($x \\neq \\omega$) and $f(x) = 1$ for a valid solution ($x = \\omega$). The oracle is represented as:\n",
    "\n",
    "$$\n",
    "U_\\omega|x\\rangle = (-1)^{f(x)}|x\\rangle\n",
    "$$\n",
    "\n",
    "and the oracle's matrix will be a diagonal matrix of the form:\n",
    "\n",
    "$$\n",
    "U_\\omega = \n",
    "\\begin{bmatrix}\n",
    "(-1)^{f(0)} &   0         & \\cdots &   0         \\\\\n",
    "0           & (-1)^{f(1)} & \\cdots &   0         \\\\\n",
    "\\vdots      &   0         & \\ddots & \\vdots      \\\\\n",
    "0           &   0         & \\cdots & (-1)^{f(2^n-1)} \\\\\n",
    "\\end{bmatrix}\n",
    "$$\n",
    "\n",
    "### How to construct the oracle circuit? \n",
    "\n",
    "Remember that computation is reversible, thus we need an ancilla to store the result of the function! \n",
    "\n",
    "\n",
    "Similar to Deutsch-Jozsa, we initialize the 'output' qubit in the state $|{-}\\rangle$, and the phase kickback effect do the rest.\n",
    "</p><p>  \n",
    "\n",
    "![image1](images/function.png)\n"
   ]
  },
  {
   "cell_type": "markdown",
   "id": "c82168bf",
   "metadata": {},
   "source": [
    "### Amplitude Amplification <a id=\"amplitude_amp\"></a>\n",
    "\n",
    "* We start always with the uniform superposition over the basis states. That is, if we have an array with $N$ elements, we need $n \\sim log(N)$ qubits to represent all possible basis states. \n",
    "\n",
    "\\begin{align*}\n",
    "    2^n &= N \\\\\n",
    "    n &\\sim log(N)\n",
    "\\end{align*} \n",
    "\n",
    "We can represent the uniform superposition state as:\n",
    "\n",
    "$$|s \\rangle = \\frac{1}{\\sqrt{N}} \\sum_{x = 0}^{N -1} | x\n",
    "\\rangle$$"
   ]
  },
  {
   "cell_type": "markdown",
   "id": "a3b448fe",
   "metadata": {},
   "source": [
    "Now, the goal is to find a routine that amplifies the probability of measuring the winner state! "
   ]
  },
  {
   "cell_type": "markdown",
   "id": "ff07fff4",
   "metadata": {},
   "source": [
    "\n",
    "This algorithm has a nice geometrical interpretation in terms of two reflections, which generate a rotation in a two-dimensional plane. The only two special states we need to consider are the winner $| w \\rangle$ and the uniform superposition $| s \\rangle$. These two vectors span a two-dimensional plane in the vector space $\\mathbb{C}^N.$ They are not quite perpendicular because $| w \\rangle$ occurs in the superposition with amplitude $N^{-1/2}$ as well.\n",
    "We can, however, introduce an additional state $|s'\\rangle$ that is in the span of these two vectors, which is perpendicular to $| w \\rangle$ and is obtained from $|s \\rangle$ by removing $| w \\rangle$ and\n",
    "rescaling. \n",
    "\n",
    "**Step 1**: The amplitude amplification procedure starts out in the uniform superposition $| s \\rangle$, which is easily constructed from $| s \\rangle = H^{\\otimes n} | 0 \\rangle^n$.\n",
    "\n",
    "![image2](images/step1.png)\n",
    "\n",
    "\n",
    "The left graphic corresponds to the two-dimensional plane spanned by perpendicular vectors $|w\\rangle$ and $|s'\\rangle$ which allows to express the initial state as $|s\\rangle = \\sin \\theta | w \\rangle + \\cos \\theta | s' \\rangle,$ where $\\theta = \\arcsin \\langle s | w \\rangle = \\arcsin \\frac{1}{\\sqrt{N}}$. The right graphic is a bar graph of the amplitudes of the state $| s \\rangle$.\n",
    "\n",
    "**Step 2**: We apply the oracle reflection $U_f$ to the state $|s\\rangle$.\n",
    "\n",
    "![image3](images/step2.png)\n",
    "\n",
    "Geometrically this corresponds to a reflection of the state $|s\\rangle$ about $|s'\\rangle$. This transformation means that the amplitude in front of the $|w\\rangle$ state becomes negative, which in turn means that the average amplitude (indicated by a dashed line) has been lowered.\n",
    "\n",
    "**Step 3**: We now apply an additional reflection ($U_s$) about the state $|s\\rangle$: $U_s = 2|s\\rangle\\langle s| - \\mathbb{1}$. This transformation maps the state to $U_s U_f| s \\rangle$ and completes the transformation. \n",
    "\n",
    "![image4](images/step3.png)\n",
    "\n",
    "Two reflections always correspond to a rotation. The transformation $U_s U_f$ rotates the initial state $|s\\rangle$ closer towards the winner $|w\\rangle$. The action of the reflection $U_s$ in the amplitude bar diagram can be understood as a reflection about the average amplitude. Since the average amplitude has been lowered by the first reflection, this transformation boosts the negative amplitude of $|w\\rangle$ to roughly three times its original value, while it decreases the other amplitudes. We then go to **step 2** to repeat the application. This procedure will be repeated several times to zero in on the winner. \n",
    "\n",
    "After $t$ steps we will be in the state $|\\psi_t\\rangle$ where: $| \\psi_t \\rangle = (U_s U_f)^t  | s \\rangle.$\n",
    "\n",
    "How many times do we need to apply the rotation? It turns out that roughly $\\sqrt{N}$ rotations suffice. Why? \n",
    "\n",
    "![image5](images/full_circuit.png)"
   ]
  },
  {
   "cell_type": "markdown",
   "id": "32b60ee3",
   "metadata": {},
   "source": [
    "## Grover's algorithm with 2 qubits <a id=\"grover2\"></a>"
   ]
  },
  {
   "cell_type": "markdown",
   "id": "ffecbba2",
   "metadata": {},
   "source": [
    "Let's suppose we want to find the state $|11\\rangle$.\n",
    "Build the Grover's algorithm !"
   ]
  },
  {
   "cell_type": "code",
   "execution_count": 3,
   "id": "e875b643",
   "metadata": {},
   "outputs": [
    {
     "data": {
      "image/png": "[encoded data removed]",
      "text/plain": [
       "<Figure size 308.728x264.88 with 1 Axes>"
      ]
     },
     "execution_count": 3,
     "metadata": {},
     "output_type": "execute_result"
    }
   ],
   "source": [
    "qr = QuantumRegister(2,name = \"psi\")\n",
    "ancilla = QuantumRegister(1, name = \"ancilla\")\n",
    "cr = ClassicalRegister(2)\n",
    "\n",
    "qc = QuantumCircuit(qr,ancilla,cr)\n",
    "\n",
    "#uniform superposition qr\n",
    "qc.h(qr)\n",
    "\n",
    "#|-> state ancilla\n",
    "qc.x(ancilla)\n",
    "qc.h(ancilla)\n",
    "\n",
    "qc.barrier() \n",
    "\n",
    "qc.draw(output=\"mpl\")"
   ]
  },
  {
   "cell_type": "code",
   "execution_count": 4,
   "id": "9d23275c",
   "metadata": {},
   "outputs": [
    {
     "data": {
      "image/png": "[encoded data removed]",
      "text/plain": [
       "<Figure size 429.128x264.88 with 1 Axes>"
      ]
     },
     "execution_count": 4,
     "metadata": {},
     "output_type": "execute_result"
    }
   ],
   "source": [
    "#oracle \n",
    "qc.ccx(qr[0],qr[1],ancilla)\n",
    "\n",
    "qc.barrier()\n",
    "\n",
    "qc.draw(output=\"mpl\")"
   ]
  },
  {
   "cell_type": "code",
   "execution_count": 5,
   "id": "5f2d3989",
   "metadata": {},
   "outputs": [
    {
     "data": {
      "image/png": "[encoded data removed]",
      "text/plain": [
       "<Figure size 850.528x264.88 with 1 Axes>"
      ]
     },
     "execution_count": 5,
     "metadata": {},
     "output_type": "execute_result"
    }
   ],
   "source": [
    "#diffusion \n",
    "\n",
    "qc.barrier()\n",
    "\n",
    "qc.h(qr)\n",
    "qc.x(qr)\n",
    "qc.cz(qr[0],qr[1])\n",
    "qc.x(qr)\n",
    "qc.h(qr)\n",
    "\n",
    "qc.barrier()\n",
    "\n",
    "\n",
    "\n",
    "qc.draw(output=\"mpl\")\n"
   ]
  },
  {
   "cell_type": "code",
   "execution_count": 6,
   "id": "f2ff48ed",
   "metadata": {},
   "outputs": [
    {
     "data": {
      "image/png": "[encoded data removed]",
      "text/plain": [
       "<Figure size 970.928x264.88 with 1 Axes>"
      ]
     },
     "execution_count": 6,
     "metadata": {},
     "output_type": "execute_result"
    }
   ],
   "source": [
    "qc.measure(qr,cr)\n",
    "\n",
    "qc.draw(output=\"mpl\")\n"
   ]
  },
  {
   "cell_type": "code",
   "execution_count": 7,
   "id": "97626727",
   "metadata": {},
   "outputs": [
    {
     "data": {
      "image/png": "[encoded data removed]",
      "text/plain": [
       "<Figure size 504x360 with 1 Axes>"
      ]
     },
     "execution_count": 7,
     "metadata": {},
     "output_type": "execute_result"
    }
   ],
   "source": [
    "counts = execute_circuit(qc, shots=1024, reversed=True)\n",
    "plot_distribution(counts)"
   ]
  },
  {
   "cell_type": "markdown",
   "id": "ec668d9e",
   "metadata": {},
   "source": [
    "#### Define the oracle "
   ]
  },
  {
   "cell_type": "code",
   "execution_count": 8,
   "id": "364e7518",
   "metadata": {},
   "outputs": [],
   "source": [
    "def oracle(qr, ancilla):\n",
    "\n",
    "    qc.barrier()\n",
    "    return qc"
   ]
  },
  {
   "cell_type": "code",
   "execution_count": 9,
   "id": "2c2aeada",
   "metadata": {},
   "outputs": [
    {
     "data": {
      "image/png": "[encoded data removed]",
      "text/plain": [
       "<Figure size 219.978x204.68 with 1 Axes>"
      ]
     },
     "execution_count": 9,
     "metadata": {},
     "output_type": "execute_result"
    }
   ],
   "source": [
    "qr = QuantumRegister(2)\n",
    "ancilla = QuantumRegister(1)\n",
    "qc = QuantumCircuit(qr,ancilla)\n",
    "qc = qc.compose(oracle(qr,ancilla))\n",
    "qc.draw(output=\"mpl\")"
   ]
  },
  {
   "cell_type": "markdown",
   "id": "13eefc44",
   "metadata": {},
   "source": [
    "#### Define the diffusion operator "
   ]
  },
  {
   "cell_type": "code",
   "execution_count": 1,
   "id": "f117709b",
   "metadata": {},
   "outputs": [],
   "source": [
    "def diffusion_operator(qr, ancilla):\n",
    "\n",
    "    qc = QuantumCircuit(qr,ancilla)\n",
    "    \n",
    "    qc.h(qr)\n",
    "    qc.x(qr[0])\n",
    "    qc.x(qr[1])\n",
    "    qc.x(qr[2])\n",
    "    qc.ccz(qr[0],qr[1],qr[2])\n",
    "    qc.x(qr[0])\n",
    "    qc.x(qr[1])\n",
    "    qc.x(qr[2])\n",
    "    qc.h(qr)\n",
    "    \n",
    "    \n",
    "    qc.barrier()\n",
    "    \n",
    "    return qc \n"
   ]
  },
  {
   "cell_type": "code",
   "execution_count": 2,
   "id": "827f825b",
   "metadata": {},
   "outputs": [
    {
     "ename": "NameError",
     "evalue": "name 'QuantumRegister' is not defined",
     "output_type": "error",
     "traceback": [
      "\u001b[0;31m---------------------------------------------------------------------------\u001b[0m",
      "\u001b[0;31mNameError\u001b[0m                                 Traceback (most recent call last)",
      "Cell \u001b[0;32mIn[2], line 1\u001b[0m\n\u001b[0;32m----> 1\u001b[0m qr \u001b[38;5;241m=\u001b[39m \u001b[43mQuantumRegister\u001b[49m(\u001b[38;5;241m2\u001b[39m)\n\u001b[1;32m      2\u001b[0m ancilla \u001b[38;5;241m=\u001b[39m QuantumRegister(\u001b[38;5;241m1\u001b[39m)\n\u001b[1;32m      3\u001b[0m qc \u001b[38;5;241m=\u001b[39m QuantumCircuit(qr,ancilla)\n",
      "\u001b[0;31mNameError\u001b[0m: name 'QuantumRegister' is not defined"
     ]
    }
   ],
   "source": [
    "qr = QuantumRegister(2)\n",
    "ancilla = QuantumRegister(1)\n",
    "qc = QuantumCircuit(qr,ancilla)\n",
    "qc = qc.compose(diffusion_operator(qr,ancilla))\n",
    "qc.draw(output=\"mpl\")"
   ]
  },
  {
   "cell_type": "markdown",
   "id": "dba1c7ce",
   "metadata": {},
   "source": [
    "#### Prepare initial quantum state"
   ]
  },
  {
   "cell_type": "code",
   "execution_count": 12,
   "id": "769eab8d",
   "metadata": {},
   "outputs": [
    {
     "data": {
      "image/png": "[encoded data removed]",
      "text/plain": [
       "<Figure size 172.759x264.88 with 1 Axes>"
      ]
     },
     "execution_count": 12,
     "metadata": {},
     "output_type": "execute_result"
    }
   ],
   "source": [
    "qr=QuantumRegister(2)\n",
    "ancilla=QuantumRegister(1)\n",
    "cr=ClassicalRegister(2)\n",
    "qc=QuantumCircuit(qr,ancilla,cr)\n",
    "\n",
    "#sobreposicação uniforme em qr\n",
    "\n",
    "qc.h(qr)\n",
    "\n",
    "#prepara ancilla no estado |-> \n",
    "\n",
    "\n",
    "qc.draw(output=\"mpl\")"
   ]
  },
  {
   "cell_type": "markdown",
   "id": "ce8f5968",
   "metadata": {},
   "source": [
    "#### Apply $j$ iterations of Grover's operator"
   ]
  },
  {
   "cell_type": "code",
   "execution_count": null,
   "id": "4317f7d6",
   "metadata": {},
   "outputs": [],
   "source": [
    "n_qubits = 2\n",
    "elements = 2**n_qubits\n",
    "\n",
    "iterations= int(np.floor(np.pi/4 * np.sqrt(elements)))\n",
    "\n",
    "for j in range(iterations):\n",
    "    qc = qc.compose(oracle(qr,ancilla))\n",
    "    qc = qc.compose(diffusion_operator(qr,ancilla))\n",
    "\n",
    "qc.measure(qr,cr)\n",
    "qc.draw(output=\"mpl\")\n",
    "    "
   ]
  },
  {
   "cell_type": "code",
   "execution_count": null,
   "id": "955d85a9",
   "metadata": {},
   "outputs": [],
   "source": [
    "counts = execute_circuit(qc)\n",
    "plot_distribution(counts)"
   ]
  },
  {
   "cell_type": "markdown",
   "id": "510e8c57",
   "metadata": {},
   "source": [
    "## Grover's algorithm with 3 qubits <a id=\"grover3\"></a>  \n"
   ]
  },
  {
   "cell_type": "markdown",
   "id": "2804e264",
   "metadata": {},
   "source": [
    "Let's suppose we want to find the state $|101\\rangle$.\n",
    "Build the Grover's algorithm !"
   ]
  },
  {
   "cell_type": "code",
   "execution_count": 5,
   "id": "b4f2bb47",
   "metadata": {},
   "outputs": [],
   "source": [
    "def oracle(qr, ancilla):\n",
    "    \n",
    "    qc = QuantumCircuit(qr,ancilla)\n",
    "\n",
    "    \n",
    "    qc.x(qr[1])\n",
    "    qc.mct([qr[0],qr[1],qr[2]],ancilla)\n",
    "    qc.x(qr[1])\n",
    "    qc.barrier()\n",
    "    \n",
    "    return qc"
   ]
  },
  {
   "cell_type": "code",
   "execution_count": 7,
   "id": "a769c0ff",
   "metadata": {},
   "outputs": [],
   "source": [
    "def diffusion_operator(qr, ancilla):\n",
    "\n",
    "    qc = QuantumCircuit(qr,ancilla)\n",
    "    \n",
    "    qc.h(qr)\n",
    "    qc.x(qr[0])\n",
    "    qc.x(qr[1])\n",
    "    qc.x(qr[2])\n",
    "    qc.ccz(qr[0],qr[1],qr[2])\n",
    "    qc.x(qr[0])\n",
    "    qc.x(qr[1])\n",
    "    qc.x(qr[2])\n",
    "    qc.h(qr)\n",
    "\n",
    "    qc.barrier()\n",
    "    \n",
    "    return qc "
   ]
  },
  {
   "cell_type": "markdown",
   "id": "257b104a",
   "metadata": {},
   "source": [
    "#### Prepare the initial state"
   ]
  },
  {
   "cell_type": "code",
   "execution_count": 8,
   "id": "c5da1318",
   "metadata": {},
   "outputs": [
    {
     "data": {
      "image/png": "[encoded data removed]",
      "text/plain": [
       "<Figure size 280.178x325.08 with 1 Axes>"
      ]
     },
     "execution_count": 8,
     "metadata": {},
     "output_type": "execute_result"
    }
   ],
   "source": [
    "qr=QuantumRegister(3)\n",
    "ancilla=QuantumRegister(1)\n",
    "cr=ClassicalRegister(3)\n",
    "qc =QuantumCircuit(qr,ancilla,cr)\n",
    "\n",
    "qc.h(qr)\n",
    "qc.x(ancilla)\n",
    "qc.h(ancilla)\n",
    "\n",
    "\n",
    "qc.barrier()\n",
    "\n",
    "qc.draw(output=\"mpl\")"
   ]
  },
  {
   "cell_type": "markdown",
   "id": "a4b36d23",
   "metadata": {},
   "source": [
    "#### Apply $j$ iterations of Grover operator "
   ]
  },
  {
   "cell_type": "code",
   "execution_count": 9,
   "id": "d3d3e555",
   "metadata": {},
   "outputs": [
    {
     "data": {
      "image/png": "[encoded data removed]",
      "text/plain": [
       "<Figure size 1062.78x325.08 with 1 Axes>"
      ]
     },
     "execution_count": 9,
     "metadata": {},
     "output_type": "execute_result"
    }
   ],
   "source": [
    "iterations=1\n",
    "for j in range(iterations):\n",
    "    qc = qc.compose(oracle(qr,ancilla))\n",
    "    qc = qc.compose(diffusion_operator(qr,ancilla))\n",
    "\n",
    "qc.measure(qr,cr)\n",
    "qc.draw(output=\"mpl\")"
   ]
  },
  {
   "cell_type": "markdown",
   "id": "7eef07a0",
   "metadata": {},
   "source": [
    "#### Execute the circuit"
   ]
  },
  {
   "cell_type": "code",
   "execution_count": 10,
   "id": "f651c55e",
   "metadata": {},
   "outputs": [
    {
     "data": {
      "image/png": "[encoded data removed]",
      "text/plain": [
       "<Figure size 504x360 with 1 Axes>"
      ]
     },
     "execution_count": 10,
     "metadata": {},
     "output_type": "execute_result"
    }
   ],
   "source": [
    "counts = execute_circuit(qc)\n",
    "plot_histogram(counts)"
   ]
  },
  {
   "cell_type": "markdown",
   "id": "e9c546e0",
   "metadata": {},
   "source": [
    "## Grover's Algorithm with 5 qubits "
   ]
  },
  {
   "cell_type": "code",
   "execution_count": null,
   "id": "beca0753",
   "metadata": {},
   "outputs": [],
   "source": [
    "from qiskit.circuit.library import ZGate\n",
    "\n",
    "circuit = QuantumCircuit(7)\n",
    "c6z = ZGate().control(6)\n",
    "circuit = circuit.compose(c6z)\n",
    "circuit.draw(output=\"mpl\")"
   ]
  },
  {
   "cell_type": "code",
   "execution_count": null,
   "id": "43834c5a",
   "metadata": {},
   "outputs": [],
   "source": [
    "def oracle(qr, ancilla, bitstring=None):\n",
    "    \n",
    "    qc.barrier()\n",
    "    return qc"
   ]
  },
  {
   "cell_type": "code",
   "execution_count": null,
   "id": "5777014d",
   "metadata": {},
   "outputs": [],
   "source": [
    "def diffusion_operator(qr, ancilla):\n",
    "\n",
    "    qc = QuantumCircuit(qr,ancilla)\n",
    "\n",
    "\n",
    "    qc.barrier()\n",
    "    \n",
    "    return qc "
   ]
  },
  {
   "cell_type": "code",
   "execution_count": null,
   "id": "0094f358",
   "metadata": {},
   "outputs": [],
   "source": [
    "n_qubits = 5\n",
    "\n",
    "qr=QuantumRegister(5)\n",
    "ancilla=QuantumRegister(1)\n",
    "cr=ClassicalRegister(5)\n",
    "\n",
    "bitstring = \"10101\"\n",
    "\n",
    "qc =QuantumCircuit(qr,ancilla,cr)\n",
    "qc.h(qr)\n",
    "\n",
    "qc.x(ancilla)\n",
    "qc.h(ancilla)\n",
    "\n",
    "qc.barrier()\n",
    "qc.draw(output=\"mpl\")"
   ]
  },
  {
   "cell_type": "code",
   "execution_count": null,
   "id": "b93183ae",
   "metadata": {},
   "outputs": [],
   "source": [
    "iterations=3\n",
    "for j in range(iterations):\n",
    "    qc = qc.compose(oracle(qr,ancilla,bitstring=bitstring))\n",
    "    qc = qc.compose(diffusion_operator(qr,ancilla))\n",
    "\n",
    "qc.measure(qr,cr)\n",
    "qc.draw(output=\"mpl\")"
   ]
  },
  {
   "cell_type": "code",
   "execution_count": null,
   "id": "6223e83d",
   "metadata": {},
   "outputs": [],
   "source": [
    "counts = execute_circuit(qc, shots=1024)\n",
    "plot_distribution(counts)"
   ]
  },
  {
   "cell_type": "markdown",
   "id": "ba814744",
   "metadata": {},
   "source": [
    "Ciao for now :)"
   ]
  }
 ],
 "metadata": {
  "interpreter": {
   "hash": "62314c999a2395b70c6666201aadb026cfae52075e045b8f587202e06e575832"
  },
  "kernelspec": {
   "display_name": "Python 3",
   "language": "python",
   "name": "python3"
  },
  "language_info": {
   "codemirror_mode": {
    "name": "ipython",
    "version": 3
   },
   "file_extension": ".py",
   "mimetype": "text/x-python",
   "name": "python",
   "nbconvert_exporter": "python",
   "pygments_lexer": "ipython3",
   "version": "3.9.16"
  }
 },
 "nbformat": 4,
 "nbformat_minor": 5
}
