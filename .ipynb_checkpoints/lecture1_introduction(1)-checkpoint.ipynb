{
 "cells": [
  {
   "cell_type": "markdown",
   "id": "miniature-tunisia",
   "metadata": {},
   "source": [
    "##### Concurrency 2022/2023 - Computer Science\n",
    "## Lecture 1 - Introduction to Quantum Computing using Qiskit\n",
    "\n",
    "by André Sequeira at andresequeira401@gmail.com"
   ]
  },
  {
   "cell_type": "markdown",
   "id": "expensive-richardson",
   "metadata": {},
   "source": [
    "<img src=\"https://miro.medium.com/max/2400/0*yUz39magP61kj3MR.png\" alt=\"Note: In order for images to show up in this jupyter notebook you need to select File => Trusted Notebook\" width=\"400 px\" align=\"center\">\n"
   ]
  },
  {
   "cell_type": "markdown",
   "id": "9dfdd099",
   "metadata": {},
   "source": [
    "##### There are many more quantum computing companies nowadays \n",
    "\n",
    "<img src=\"images/qc_companies.png\" alt=\"Note: In order for images to show up in this jupyter notebook you need to select File => Trusted Notebook\" width=\"600 px\" align=\"center\">\n",
    "\n"
   ]
  },
  {
   "cell_type": "markdown",
   "id": "ef4b1d75",
   "metadata": {},
   "source": [
    "* Google - Circ\n",
    "* Microsoft - Azure quantum\n",
    "* Xanadu - Pennylane \n",
    "  \n",
    "...\n"
   ]
  },
  {
   "cell_type": "markdown",
   "id": "super-interpretation",
   "metadata": {},
   "source": [
    "## Contents\n",
    "0. [Installation](#inst)\n",
    "1. [Postulates of quantum mechanics](#postulates)\n",
    "   * [State space](#statespace)\n",
    "   * [Evolution](#evolution)\n",
    "   * [Measurement](#Measurement)\n",
    "   * [Composite systems](#composite)\n",
    "3. [Single-qubit gates](#single_operations)\n",
    "4. [Multi-qubit gates](#multi_op)"
   ]
  },
  {
   "cell_type": "markdown",
   "id": "flexible-reporter",
   "metadata": {},
   "source": [
    "## 0. Installation  <a id='inst'></a>"
   ]
  },
  {
   "cell_type": "markdown",
   "id": "intense-popularity",
   "metadata": {},
   "source": [
    "1. Create python virtual environment (Anaconda , venv...)\n",
    "   \n",
    "2. If anaconda -> Open terminal and type:\n",
    "   \n",
    "   1. create virtual environment: \n",
    "      <p> conda create -n NAME_OF_YOUR_ENVIRONMENT python=3.9 </p>\n",
    "   2. Activate environment: \n",
    "      <p> conda activate NAME_OF_YOUR_ENVIRONMENT </p>\n",
    "   3. Install qiskit: \n",
    "      <p> pip install qiskit </p>\n",
    "\n",
    "   If venv -> Open terminal and type:\n",
    "\n",
    "   4. create virtual environment: \n",
    "      <p> python3 -m venv NAME_OF_YOUR_ENVIRONMENT </p>\n",
    "   5. Activate environment:\n",
    "      <p> source activate  NAME_OF_YOUR_ENVIRONMENT/bin/activate (see exact activation mode for your operating system) </p>\n",
    "   6. Install qiskit: \n",
    "      <p> pip install qiskit </p>\n",
    "\n",
    "3. If you want to use Qiskit labs, or run your quantum circuits on real quantum hardware, you need to create an account in [IBM Q Experience](https://quantum-computing.ibm.com/). Otherwise, if just use the simulator, then you can simply use the local installation of qiskit."
   ]
  },
  {
   "cell_type": "code",
   "execution_count": 1,
   "id": "affiliated-yukon",
   "metadata": {},
   "outputs": [
    {
     "data": {
      "text/html": [
       "<h3>Version Information</h3><table><tr><th>Qiskit Software</th><th>Version</th></tr><tr><td><code>qiskit-terra</code></td><td>0.23.2</td></tr><tr><td><code>qiskit-aer</code></td><td>0.11.2</td></tr><tr><td><code>qiskit-ibmq-provider</code></td><td>0.20.1</td></tr><tr><td><code>qiskit</code></td><td>0.41.1</td></tr><tr><th>System information</th></tr><tr><td>Python version</td><td>3.9.16</td></tr><tr><td>Python compiler</td><td>GCC 11.2.0</td></tr><tr><td>Python build</td><td>main, Jan 11 2023 16:05:54</td></tr><tr><td>OS</td><td>Linux</td></tr><tr><td>CPUs</td><td>6</td></tr><tr><td>Memory (Gb)</td><td>7.096443176269531</td></tr><tr><td colspan='2'>Wed Mar 01 09:16:16 2023 WET</td></tr></table>"
      ],
      "text/plain": [
       "<IPython.core.display.HTML object>"
      ]
     },
     "metadata": {},
     "output_type": "display_data"
    }
   ],
   "source": [
    "import qiskit.tools.jupyter\n",
    "%qiskit_version_table"
   ]
  },
  {
   "cell_type": "markdown",
   "id": "public-oriental",
   "metadata": {},
   "source": [
    "&nbsp;\n",
    "\n",
    "## 1. Postulates of quantum mechanics <a id='postulates'></a>\n",
    "\n",
    "### 1.1 State space\n",
    "Associated with any isolated physical system is a complex vector space with an inner product (Hilbert Space) known as the **state space** of the system.\n",
    "\n",
    "Hilbert space $$\\mathbb{H} - \\mathbb{C}^d$$\n",
    "\n",
    "where $d=2^n$ with $n$ being the number of qubits of our quantum system.\n",
    "The quantum bit, *qubit*, is the unit of information in a quantum computer. Any quantum system with two orthogonal states can be used to represent a qubit.\n",
    "\n",
    "<img src=\"images/bits_qubits.png\" alt=\"alt text\" height=300, width=\"600\"/>\n",
    "\n",
    "The bit can only be in one of the two discrete states. The quantum bit can be in one of the two discrete states **or** any combination of the two states. Quantum computing is linear, thus a superposition, or linear combination of both states is a valid state of the system.\n",
    "\n",
    "<img src=\"images/superposition.png\" alt=\"alt text\" height=350, width=\"500\"/>\n",
    "\n",
    "This means that the qubit can actually be in any combination of 0 and 1. For instance, a qubit can be 70% 0 and 30% 1, kinda... Qubits are not the same as probabilistic bits, why? Because they can have complex amplitudes that could interfere!\n",
    "\n",
    "Actually, many people say that this is the power of quantum computing, but, only to an extent. **Superposition state is not a probabilistic mixture, both states happen at the same time**, but the real power of quantum computers come from physical processes like **interference** and **entanglement** which are impossible to recreate classically."
   ]
  },
  {
   "cell_type": "markdown",
   "id": "cheap-vacuum",
   "metadata": {},
   "source": [
    "&nbsp;\n",
    "### Dirac notation<a id='bra_ket'></a>\n",
    "\n",
    "The bra–ket notation is a standard notation for describing quantum states.\n",
    "\n",
    "- A *ket* $|u\\rangle$ is a column vector, while a *bra* $\\langle v |$ is a row vector.\n",
    "\n",
    "- $| u \\rangle$ and $ \\langle u|$ are [Hermitian conjugates](https://en.wikipedia.org/wiki/Conjugate_transpose) of each other. \n",
    "\n",
    "This notation simplifies the representation of the scalar product of vectors, as well as the action of a linear operator on a vector and other operations over a complex vector space.\n",
    "\n",
    "<div class=\"alert alert-block alert-info\">\n",
    "    \n",
    "**Bra-ket as inner product of vectors**\n",
    "\n",
    "Consider the ket vector $|u\\rangle$  and $|v\\rangle$ on a two-dimensional space:\n",
    "\n",
    "$$\n",
    "|u\\rangle =  \n",
    "\\begin{pmatrix}\n",
    "1 \\\\\n",
    "0\n",
    "\\end{pmatrix};\n",
    "\\;\\;\n",
    "|v\\rangle = \n",
    "\\begin{pmatrix}\n",
    "0 \\\\\n",
    "1\n",
    "\\end{pmatrix};\n",
    "$$\n",
    "\n",
    "&nbsp;\n",
    "\n",
    "Their respective conjugate transpose, $\\langle u|$ and $\\langle v|$, can be represented as row vectors:\n",
    "\n",
    "&nbsp;\n",
    "\n",
    "$$\n",
    "\\langle u| =  \n",
    "\\begin{pmatrix}\n",
    "1 & 0\n",
    "\\end{pmatrix};\n",
    "\\;\\;\n",
    "\\langle v | = \n",
    "\\begin{pmatrix}\n",
    "0 & 1\n",
    "\\end{pmatrix};\n",
    "$$\n",
    "\n",
    "&nbsp;\n",
    "\n",
    "The inner product between $\\langle v|$ and $|u\\rangle$ is represented as $\\langle v | u \\rangle$:\n",
    "\n",
    "&nbsp;\n",
    "\n",
    "$$\n",
    "\\langle v | u \\rangle =\n",
    "\\begin{pmatrix}\n",
    "0 & 1\n",
    "\\end{pmatrix}\n",
    "\\begin{pmatrix}\n",
    "1 \\\\\n",
    "0\n",
    "\\end{pmatrix} = 0 \\, ;\n",
    "$$\n",
    "\n",
    "&nbsp;\n",
    "\n",
    "Which indicates that the states are in fact orthogonal, thereby forming a basis in a two-dimensional space.\n",
    "</div>"
   ]
  },
  {
   "cell_type": "markdown",
   "id": "useful-burlington",
   "metadata": {},
   "source": [
    "States \n",
    "\n",
    "$$\n",
    "|u\\rangle =  \n",
    "\\begin{pmatrix}\n",
    "1 \\\\\n",
    "0\n",
    "\\end{pmatrix} = |0\\rangle;\n",
    "\\;\\;\n",
    "|v\\rangle = \n",
    "\\begin{pmatrix}\n",
    "0 \\\\\n",
    "1\n",
    "\\end{pmatrix} = |1\\rangle;\n",
    "$$\n",
    "\n",
    "form the computational basis and a single qubit quantum state is generally described as $|\\psi\\rangle$ that can be written as a complex superposition of these basis states as:\n",
    "\n",
    "$$|\\psi\\rangle = \\alpha|0\\rangle + \\beta |1\\rangle = \\begin{pmatrix}\n",
    "\\alpha \\\\\n",
    "\\beta\n",
    "\\end{pmatrix}$$\n",
    "\n",
    "<img src=\"images/bloch_sphere.png\" alt=\"alt text\" height=400, width=\"550\"/>\n",
    "\n"
   ]
  },
  {
   "cell_type": "code",
   "execution_count": 2,
   "id": "minute-final",
   "metadata": {
    "ExecuteTime": {
     "end_time": "2018-09-29T00:04:16.313210Z",
     "start_time": "2018-09-29T00:04:14.460647Z"
    },
    "hideOutput": true
   },
   "outputs": [],
   "source": [
    "from qiskit import QuantumCircuit, ClassicalRegister, QuantumRegister, Aer, execute\n",
    "from qiskit.tools.visualization import plot_histogram, plot_distribution\n",
    "import matplotlib.pyplot as plt\n",
    "import numpy as np"
   ]
  },
  {
   "cell_type": "markdown",
   "id": "deluxe-exception",
   "metadata": {},
   "source": [
    "**Quantum registers** are used to create qubits. Take into account that the qubit always starts in state $|0\\rangle$. \n",
    "\n",
    "**Classical registers** are used to measure the state of the qubits i.e. collapse the quantum state into a classical state."
   ]
  },
  {
   "cell_type": "code",
   "execution_count": 3,
   "id": "tender-climb",
   "metadata": {},
   "outputs": [],
   "source": [
    "qr = QuantumRegister(1,'q')\n",
    "\n",
    "cr = ClassicalRegister(1,'c')"
   ]
  },
  {
   "cell_type": "markdown",
   "id": "corporate-priority",
   "metadata": {},
   "source": [
    "A **quantum circuit** is defined by the quantum and classical registers created above"
   ]
  },
  {
   "cell_type": "code",
   "execution_count": 4,
   "id": "sound-foundation",
   "metadata": {},
   "outputs": [],
   "source": [
    "circuit1 = QuantumCircuit(qr,cr, name=\"qcircuit\")\n",
    "\n",
    "#or\n",
    "\n",
    "n_qubits = 1\n",
    "n_bits = 1\n",
    "circuit2 = QuantumCircuit(n_qubits,n_bits, name=\"qcircuit\")"
   ]
  },
  {
   "cell_type": "markdown",
   "id": "dd51b47c",
   "metadata": {},
   "source": [
    "One can also avoid creating explicitly the quantum/classical registers"
   ]
  },
  {
   "cell_type": "code",
   "execution_count": 5,
   "id": "d1f2f44f",
   "metadata": {},
   "outputs": [],
   "source": [
    "qc = QuantumCircuit(1,1) "
   ]
  },
  {
   "cell_type": "code",
   "execution_count": 6,
   "id": "a101ba10",
   "metadata": {},
   "outputs": [
    {
     "data": {
      "image/png": "[encoded data removed]",
      "text/plain": [
       "<Figure size 133.526x84.28 with 1 Axes>"
      ]
     },
     "execution_count": 6,
     "metadata": {},
     "output_type": "execute_result"
    }
   ],
   "source": [
    "#you can draw the quantum circuit\n",
    "qc = QuantumCircuit(1)\n",
    "qc.x(0)\n",
    "qc.draw(output=\"mpl\")"
   ]
  },
  {
   "cell_type": "markdown",
   "id": "mathematical-bidding",
   "metadata": {},
   "source": [
    "### 1.2 Evolution <a id='evolution'></a>\n",
    "\n",
    "Usually the evolution of quantum systems is given by an operator $U$ s.t:\n",
    "$$ |\\psi'\\rangle = U|\\psi\\rangle $$\n",
    "Quantum evolution or operators are **unitary** this means that the computation is reversible because $UU^{\\dagger}=I$. \n",
    "\n",
    "A gate acting on a single qubit is represented by a $2\\times 2$ unitary matrix $U$ that can have complex entries. Evolution thus happens by linear algebra, simple matrix vector multiplication.\n",
    "\n",
    "The most used single-qubit gates are the **Pauli gates** : \n",
    "\n",
    "$$\n",
    "X   =  \n",
    "\\begin{pmatrix}\n",
    "0 & 1\\\\\n",
    "1 & 0\n",
    "\\end{pmatrix}\n",
    ";\n",
    "\\quad\n",
    "Y  = \n",
    "\\begin{pmatrix}\n",
    "0 & -i\\\\\n",
    "i & 0\n",
    "\\end{pmatrix}\n",
    ";\n",
    "\\quad\n",
    "Z = \n",
    "\\begin{pmatrix}\n",
    "1 & 0\\\\\n",
    "0 & -1\n",
    "\\end{pmatrix}\n",
    "$$\n",
    "\n",
    "##### <span style=\"color: red;\">EXERCISE 1:</span> - Apply the Pauli matrices to the computational basis states and see how state changes"
   ]
  },
  {
   "cell_type": "code",
   "execution_count": 7,
   "id": "2c77abf1",
   "metadata": {},
   "outputs": [
    {
     "data": {
      "image/png": "[encoded data removed]",
      "text/plain": [
       "<Figure size 133.526x84.28 with 1 Axes>"
      ]
     },
     "execution_count": 7,
     "metadata": {},
     "output_type": "execute_result"
    }
   ],
   "source": [
    "qc = QuantumCircuit(1)\n",
    "\n",
    "qc.z(0)\n",
    "\n",
    "qc.draw(output=\"mpl\")"
   ]
  },
  {
   "cell_type": "code",
   "execution_count": 8,
   "id": "35002360",
   "metadata": {},
   "outputs": [
    {
     "data": {
      "image/png": "[encoded data removed]",
      "text/plain": [
       "<Figure size 133.526x84.28 with 1 Axes>"
      ]
     },
     "execution_count": 8,
     "metadata": {},
     "output_type": "execute_result"
    }
   ],
   "source": [
    "qc = QuantumCircuit(1)\n",
    "\n",
    "qc.h(0)\n",
    "\n",
    "qc.draw(output=\"mpl\")"
   ]
  },
  {
   "cell_type": "code",
   "execution_count": 9,
   "id": "35efd25c",
   "metadata": {},
   "outputs": [
    {
     "data": {
      "image/png": "[encoded data removed]",
      "text/plain": [
       "<Figure size 314.126x84.28 with 1 Axes>"
      ]
     },
     "execution_count": 9,
     "metadata": {},
     "output_type": "execute_result"
    }
   ],
   "source": [
    "qc = QuantumCircuit(1)\n",
    "\n",
    "qc.x(0)\n",
    "qc.h(0)\n",
    "qc.x(0)\n",
    "qc.h(0)\n",
    "\n",
    "\n",
    "qc.draw(output=\"mpl\")"
   ]
  },
  {
   "cell_type": "markdown",
   "id": "b75a0b8b",
   "metadata": {},
   "source": [
    "One of the most important single-qubit gates is the Hadamard gate, responsible for creating a *uniform* superposition state.\n",
    "\n",
    "$$\n",
    "H   =  \\frac{1}{\\sqrt{2}}\n",
    "\\begin{pmatrix}\n",
    "1 & 1\\\\\n",
    "1 & -1\n",
    "\\end{pmatrix}\n",
    "$$\n",
    "\n",
    "##### <span style=\"color: red;\">EXERCISE 2:</span> - Apply the Hadamard matrix to the computational basis states and see how state changes. If we apply two Hadamards consecutively, what state do we get  ? \n",
    "\n",
    "\n",
    "##### <span style=\"color: red;\">EXERCISE 3:</span> - What state do we get if we apply the following gates ? \n",
    "<img src=\"images/xhxh.png\" alt=\"alt text\" height=150, width=\"650\"/>"
   ]
  },
  {
   "cell_type": "markdown",
   "id": "1aadb82d",
   "metadata": {},
   "source": [
    "### 1.3 Measurement"
   ]
  },
  {
   "cell_type": "markdown",
   "id": "351f6691",
   "metadata": {},
   "source": [
    "#### Execute using the qasm_simulator \n",
    "\n",
    "A measurement is composed by **projective operators** - measurements in the computational basis.\n",
    "\n",
    "$$ M_0 = |0\\rangle \\langle 0| $$\n",
    "$$ M_1 = |1\\rangle \\langle 1| $$\n",
    "\n",
    "If the state of the system is an arbitrary state $|\\psi\\rangle$, then the probability of measuring each basis state $i$ is given by:\n",
    "\n",
    "$$ P_i = \\langle \\psi| M_i | \\psi\\rangle $$ \n",
    "Thus, for an arbitrary superposition state $|\\psi\\rangle = \\alpha|0\\rangle + \\beta |1\\rangle$, we measure each basis state with probability:\n",
    "\n",
    "$$p_0 = |\\alpha|^2$$\n",
    "\n",
    "$$p_1 = |\\beta|^2$$\n",
    "\n",
    "##### <span style=\"color: red;\">EXERCISE 4:</span> - Prove that the probabilities of measuring each basis state are indeed what is represented above \n",
    "\n",
    "We can execute the circuit in two different ways:\n",
    "* **state_vector_simulator** - Results the exact quantum state i.e the vector of complex amplitudes.\n",
    "* **qasm_simulator** - Returns the quantum states measured after executing the circuit several times. Number of **shots**. "
   ]
  },
  {
   "cell_type": "code",
   "execution_count": 10,
   "id": "sticky-appliance",
   "metadata": {},
   "outputs": [],
   "source": [
    "statevector_backend = Aer.get_backend(\"statevector_simulator\")\n",
    "qasm_backed = Aer.get_backend(\"qasm_simulator\")"
   ]
  },
  {
   "cell_type": "markdown",
   "id": "bc382d1a",
   "metadata": {},
   "source": [
    "#### Execute using the statevector simulator"
   ]
  },
  {
   "cell_type": "code",
   "execution_count": 11,
   "id": "latest-wisconsin",
   "metadata": {},
   "outputs": [
    {
     "name": "stdout",
     "output_type": "stream",
     "text": [
      "Statevector([1.+0.j, 0.+0.j],\n",
      "            dims=(2,))\n"
     ]
    }
   ],
   "source": [
    "qc = QuantumCircuit(1)\n",
    "\n",
    "result = execute(qc, statevector_backend).result()\n",
    "qstate= result.get_statevector(qc)\n",
    "print(qstate)"
   ]
  },
  {
   "cell_type": "markdown",
   "id": "worthy-discussion",
   "metadata": {},
   "source": [
    "Import the visualization tools:"
   ]
  },
  {
   "cell_type": "code",
   "execution_count": 12,
   "id": "through-workshop",
   "metadata": {},
   "outputs": [],
   "source": [
    "from qiskit.visualization import *"
   ]
  },
  {
   "cell_type": "code",
   "execution_count": 13,
   "id": "individual-hypothesis",
   "metadata": {},
   "outputs": [
    {
     "data": {
      "image/png": "[encoded data removed]",
      "text/plain": [
       "<Figure size 288x288 with 1 Axes>"
      ]
     },
     "execution_count": 13,
     "metadata": {},
     "output_type": "execute_result"
    }
   ],
   "source": [
    "plot_bloch_multivector(qstate)"
   ]
  },
  {
   "cell_type": "markdown",
   "id": "c51d985a",
   "metadata": {},
   "source": [
    "### Execute the quantum circuit in the qasm_simulator\n",
    "\n",
    "In qiskit it is only possible to measure in the computational basis, using the measure function"
   ]
  },
  {
   "cell_type": "code",
   "execution_count": 14,
   "id": "0efe8bb4",
   "metadata": {},
   "outputs": [
    {
     "ename": "QiskitError",
     "evalue": "'No counts for experiment \"0\"'",
     "output_type": "error",
     "traceback": [
      "\u001b[0;31m---------------------------------------------------------------------------\u001b[0m",
      "\u001b[0;31mQiskitError\u001b[0m                               Traceback (most recent call last)",
      "Cell \u001b[0;32mIn[14], line 7\u001b[0m\n\u001b[1;32m      4\u001b[0m \u001b[38;5;66;03m#or circuit1.measure_all()\u001b[39;00m\n\u001b[1;32m      6\u001b[0m result \u001b[38;5;241m=\u001b[39m execute(qc, qasm_backed, shots\u001b[38;5;241m=\u001b[39m\u001b[38;5;241m1024\u001b[39m)\u001b[38;5;241m.\u001b[39mresult()\n\u001b[0;32m----> 7\u001b[0m counts \u001b[38;5;241m=\u001b[39m \u001b[43mresult\u001b[49m\u001b[38;5;241;43m.\u001b[39;49m\u001b[43mget_counts\u001b[49m\u001b[43m(\u001b[49m\u001b[43m)\u001b[49m\n\u001b[1;32m      9\u001b[0m \u001b[38;5;28mprint\u001b[39m(counts)\n",
      "File \u001b[0;32m~/anaconda3/envs/conc/lib/python3.9/site-packages/qiskit/result/result.py:289\u001b[0m, in \u001b[0;36mResult.get_counts\u001b[0;34m(self, experiment)\u001b[0m\n\u001b[1;32m    287\u001b[0m         dict_list\u001b[38;5;241m.\u001b[39mappend(statevector\u001b[38;5;241m.\u001b[39mStatevector(vec)\u001b[38;5;241m.\u001b[39mprobabilities_dict(decimals\u001b[38;5;241m=\u001b[39m\u001b[38;5;241m15\u001b[39m))\n\u001b[1;32m    288\u001b[0m     \u001b[38;5;28;01melse\u001b[39;00m:\n\u001b[0;32m--> 289\u001b[0m         \u001b[38;5;28;01mraise\u001b[39;00m QiskitError(\u001b[38;5;124mf\u001b[39m\u001b[38;5;124m'\u001b[39m\u001b[38;5;124mNo counts for experiment \u001b[39m\u001b[38;5;124m\"\u001b[39m\u001b[38;5;132;01m{\u001b[39;00m\u001b[38;5;28mrepr\u001b[39m(key)\u001b[38;5;132;01m}\u001b[39;00m\u001b[38;5;124m\"\u001b[39m\u001b[38;5;124m'\u001b[39m)\n\u001b[1;32m    291\u001b[0m \u001b[38;5;66;03m# Return first item of dict_list if size is 1\u001b[39;00m\n\u001b[1;32m    292\u001b[0m \u001b[38;5;28;01mif\u001b[39;00m \u001b[38;5;28mlen\u001b[39m(dict_list) \u001b[38;5;241m==\u001b[39m \u001b[38;5;241m1\u001b[39m:\n",
      "\u001b[0;31mQiskitError\u001b[0m: 'No counts for experiment \"0\"'"
     ]
    }
   ],
   "source": [
    "qc = QuantumCircuit(1,1)\n",
    "\n",
    "\n",
    "#or circuit1.measure_all()\n",
    "\n",
    "#result = execute(qc, qasm_backed, shots=1024).result()\n",
    "#counts = result.get_counts()\n",
    "\n",
    "#print(counts)"
   ]
  },
  {
   "cell_type": "markdown",
   "id": "2244a5d4",
   "metadata": {},
   "source": [
    "#### Plotting the counts"
   ]
  },
  {
   "cell_type": "code",
   "execution_count": null,
   "id": "80108162",
   "metadata": {},
   "outputs": [],
   "source": [
    "plot_histogram(counts)"
   ]
  },
  {
   "cell_type": "markdown",
   "id": "bab2c74b",
   "metadata": {},
   "source": [
    "### Plot probability distribution generated from measurements\n"
   ]
  },
  {
   "cell_type": "code",
   "execution_count": 15,
   "id": "0a76fb58",
   "metadata": {},
   "outputs": [
    {
     "data": {
      "image/png": "[encoded data removed]",
      "text/plain": [
       "<Figure size 297.479x144.48 with 1 Axes>"
      ]
     },
     "execution_count": 15,
     "metadata": {},
     "output_type": "execute_result"
    }
   ],
   "source": [
    "qc = QuantumCircuit(1)\n",
    "qc.h(0)\n",
    "qc.measure_all()\n",
    "\n",
    "\n",
    "qc.draw(output=\"mpl\")"
   ]
  },
  {
   "cell_type": "code",
   "execution_count": 16,
   "id": "5158cb5d",
   "metadata": {},
   "outputs": [
    {
     "data": {
      "image/png": "[encoded data removed]",
      "text/plain": [
       "<Figure size 504x360 with 1 Axes>"
      ]
     },
     "execution_count": 16,
     "metadata": {},
     "output_type": "execute_result"
    }
   ],
   "source": [
    "result = execute(qc, qasm_backed, shots=1000000).result()\n",
    "counts = result.get_counts()\n",
    "\n",
    "plot_distribution(counts)\n"
   ]
  },
  {
   "cell_type": "markdown",
   "id": "79851db8",
   "metadata": {},
   "source": [
    "##### <span style=\"color: red;\">Question:</span> - Why don't we get a uniform distribution ?"
   ]
  },
  {
   "cell_type": "markdown",
   "id": "b7fdfdf5",
   "metadata": {},
   "source": [
    "### Note on qiskit ordering of qubits \n",
    "\n",
    "Qiskit uses little-endian , left qubit is the most significant . Important for easy binary to decimal conversion. \n",
    "\n",
    "<p align=\"center\">\n",
    "  <img width=\"650\" height=\"400\" src=\"images/littleendian.png\">\n",
    "</p>\n"
   ]
  },
  {
   "cell_type": "markdown",
   "id": "d55ce7b4",
   "metadata": {},
   "source": [
    "#### High level function for executing the circuit using qasm_simulator"
   ]
  },
  {
   "cell_type": "code",
   "execution_count": 17,
   "id": "30d6c977",
   "metadata": {},
   "outputs": [],
   "source": [
    "def execute_circuit(qc, shots=1024, decimal=False, reversed=False):\n",
    "    \n",
    "    #define backend\n",
    "    device = Aer.get_backend('qasm_simulator')\n",
    "    #get counts\n",
    "    counts = execute(qc, device ,shots=shots).result().get_counts()\n",
    "    \n",
    "    if decimal:\n",
    "        if reversed:\n",
    "            counts = dict((int(a[::-1],2),b) for (a,b) in counts.items())\n",
    "        else:\n",
    "            counts = dict((int(a,2),b) for (a,b) in counts.items())\n",
    "    else:\n",
    "        if reversed:\n",
    "            counts = dict((a[::-1],b) for (a,b) in counts.items())\n",
    "        else:\n",
    "            counts = dict((a,b) for (a,b) in counts.items())\n",
    "\n",
    "    return counts"
   ]
  },
  {
   "cell_type": "code",
   "execution_count": null,
   "id": "99d66705",
   "metadata": {},
   "outputs": [],
   "source": []
  },
  {
   "cell_type": "code",
   "execution_count": 18,
   "id": "fba922c5",
   "metadata": {},
   "outputs": [
    {
     "data": {
      "image/png": "[encoded data removed]",
      "text/plain": [
       "<Figure size 504x360 with 1 Axes>"
      ]
     },
     "execution_count": 18,
     "metadata": {},
     "output_type": "execute_result"
    }
   ],
   "source": [
    "qc = QuantumCircuit(2)\n",
    "\n",
    "qc.x(0)\n",
    "\n",
    "qc.measure_all()\n",
    "\n",
    "#qc.draw(output=\"mpl\")\n",
    "\n",
    "counts = execute_circuit(qc, reversed=True)\n",
    "\n",
    "plot_histogram(counts)\n"
   ]
  },
  {
   "cell_type": "markdown",
   "id": "b13bca67",
   "metadata": {},
   "source": [
    "##### <span style=\"color: red;\">Question:</span> Is there any reason for using qasm_simulator instead or statevector ?\n"
   ]
  },
  {
   "cell_type": "markdown",
   "id": "impossible-delaware",
   "metadata": {},
   "source": [
    "## 2 Single-qubit gates <a id='single_op'></a>\n",
    "\n",
    "(Let qr being the quantum register and qc being the quantum circuit.)\n",
    "\n",
    "\n",
    "|Gate Name|Syntax |Matrix|      \n",
    "|-|-|-|\n",
    "|Identity |qc.id(qr)|  $Id = \\begin{bmatrix} 1&0\\\\0&1 \\end{bmatrix}$|\n",
    "|Bit-flip or Pauli-X| qc.x(qr)| $ X = \\begin{bmatrix} 0&1\\\\1&0 \\end{bmatrix}$|\n",
    "|Bit and phase-flip or Pauli-Y| qc.y(qr)|$ Y = \\begin{bmatrix} 0&-i\\\\i&0 \\end{bmatrix}$|\n",
    "|Phase-flip or Pauli-Z| qc.z(qr)| $Z = \\begin{bmatrix} 1&0\\\\0&-1 \\end{bmatrix}$|\n",
    "|Hadamard|qc.h(qr)| $ H =\\frac{1}{\\sqrt{2}}\\begin{bmatrix} 1 & 1 \\\\ 1 & -1\\end{bmatrix}$|\n",
    "|S or $\\sqrt{Z}$-Phase|qc.s(qr)|$ S =\\begin{bmatrix} 1 & 0 \\\\ 0 & i\\end{bmatrix}$|\n",
    "|$S^\\dagger$ or conjugate $\\sqrt{Z}$-Phase|qc.sdg(qr)| $S^\\dagger =\\begin{bmatrix} 1 & 0 \\\\ 0 & -i\\end{bmatrix}$|\n",
    "|T or $\\sqrt{S}$-Phase|qc.t(qr)| $T=\\begin{bmatrix}1 & 0 \\\\ 0 & e^{i \\pi /\\ 4}\\end{bmatrix}$|\n",
    "|$T^\\dagger$ or conjugate $\\sqrt{S}$-Phase|qc.tdg(qr)| $ T^\\dagger =\\begin{bmatrix}1 & 0 \\\\ 0 & e^{-i \\pi /\\ 4}\\end{bmatrix}$|\n",
    "|$R_y$ rotation gate |qc.ry(qr)| $ R_y(\\theta) = \\begin{bmatrix} cos(\\frac{\\theta}{2}) & -sin(\\frac{\\theta}{2}) \\\\ sin(\\frac{\\theta}{2}) & cos(\\frac{\\theta}{2})\\end{bmatrix}$|\n",
    "|$R_x$ rotation gate |qc.rx(qr)| $ R_x(\\theta) = \\begin{bmatrix} cos(\\frac{\\theta}{2}) & -isin(\\frac{\\theta}{2}) \\\\ isin(\\frac{\\theta}{2}) & cos(\\frac{\\theta}{2})\\end{bmatrix}$|\n",
    "|$R_z$ rotation gate |qc.rz(qr)| $ R_z(\\theta) = \\begin{bmatrix} e^{i\\frac{\\theta}{2}} & -0 \\\\ 0 & e^{-i\\frac{\\theta}{2}}\\end{bmatrix}$|"
   ]
  },
  {
   "cell_type": "markdown",
   "id": "f7f4a5a7",
   "metadata": {},
   "source": [
    "##### <span style=\"color: red;\">EXERCISE 5:</span>\n",
    "Program a quantum circuit for each of the pauli gates and execute the circuit using qasm_simulator. \n",
    "\n",
    "What happens to the probabilities of our system once we apply these gates?"
   ]
  },
  {
   "cell_type": "code",
   "execution_count": 19,
   "id": "238201c3",
   "metadata": {},
   "outputs": [
    {
     "data": {
      "image/png": "[encoded data removed]",
      "text/plain": [
       "<Figure size 504x360 with 1 Axes>"
      ]
     },
     "execution_count": 19,
     "metadata": {},
     "output_type": "execute_result"
    }
   ],
   "source": [
    "### YOUR CODE HERE ###\n",
    "\n",
    "qc = QuantumCircuit(3)\n",
    "qc.x(0)\n",
    "qc.y(1)\n",
    "qc.z(2)\n",
    "\n",
    "qc.measure_all()\n",
    "\n",
    "qc.draw(output=\"mpl\")\n",
    "\n",
    "counts = execute_circuit(qc, reversed=True)\n",
    "\n",
    "plot_histogram(counts)"
   ]
  },
  {
   "cell_type": "markdown",
   "id": "5bfb3683",
   "metadata": {},
   "source": [
    "### 1.4 Composite systems <a id=\"composite\"></a>"
   ]
  },
  {
   "cell_type": "markdown",
   "id": "otherwise-project",
   "metadata": {},
   "source": [
    "Multi qubit states are represented via the tensor product:\n",
    "\n",
    "$$\n",
    "|q_0\\rangle \\otimes |q_1\\rangle =  |q_0\\rangle |q_1\\rangle = |q_0 q_1\\rangle\n",
    "$$\n",
    "\n",
    "&nbsp;\n",
    "\n",
    "**Note**: The ordering convention adopted in Qiskit writes the first qubit of a circuit at the far right and adds each additional qubit on the left.\n",
    "\n",
    "Most significant bit (MSB) on the left to the least significant bit (LSB) on the right (big-endian):\n",
    "\n",
    "&nbsp;\n",
    "\n",
    "$$ |q_n\\rangle \\otimes \\cdots \\otimes |q_1\\rangle \\otimes |q_0\\rangle $$\n",
    "\n",
    "&nbsp;\n",
    "\n",
    "Keep in mind that this ordering may be different than quantum circuits and algorithms described in scientific literature, and needs to be taken into account when analysing results of multi-qubit measurements, or the algebraic description of multi-qubit operations and states.\n",
    "\n",
    "<div class=\"alert alert-block alert-info\">\n"
   ]
  },
  {
   "cell_type": "code",
   "execution_count": 21,
   "id": "ba251c51",
   "metadata": {},
   "outputs": [
    {
     "data": {
      "image/png": "[encoded data removed]",
      "text/plain": [
       "<Figure size 504x360 with 1 Axes>"
      ]
     },
     "execution_count": 21,
     "metadata": {},
     "output_type": "execute_result"
    }
   ],
   "source": [
    "qc = QuantumCircuit(5)\n",
    "qc.h(0)\n",
    "\n",
    "qc.measure_all()\n",
    "\n",
    "counts= execute_circuit(qc, shots=100, reversed=True)\n",
    "\n",
    "plot_distribution(counts)\n",
    "#qc.draw(output=\"mpl\")"
   ]
  },
  {
   "cell_type": "markdown",
   "id": "8c4729cc",
   "metadata": {},
   "source": [
    "\n",
    "Consider two non-entangled qubits of a quantum circuit, $q_a$ and $q_b$. Their joint-state description can be written in bra-ket notation, with the tensor product providing an algebraic description of the state.\n",
    "\n",
    "&nbsp;\n",
    "\n",
    "$$|q_a q_b\\rangle = |q_a\\rangle \\otimes |q_b\\rangle = \n",
    "\\begin{pmatrix}\n",
    "q_{a1} \\\\ \n",
    "q_{a2}\n",
    "\\end{pmatrix} \\otimes\n",
    "\\begin{pmatrix}\n",
    "q_{b1} \\\\ \n",
    "q_{b2}\n",
    "\\end{pmatrix} =\n",
    "\\begin{pmatrix}\n",
    "q_{a1}.q_{b1} \\\\\n",
    "q_{a1}.q_{b2} \\\\\n",
    "q_{a2}.q_{b1} \\\\\n",
    "q_{a2}.q_{b2}\n",
    "\\end{pmatrix}\n",
    "$$\n",
    "\n",
    "&nbsp;\n",
    "\n",
    "Using the tensor product, we can determine the vector of an $n$-qubit basis state. For example:\n",
    "\n",
    "&nbsp;\n",
    "\n",
    "$$|10\\rangle = |1\\rangle \\otimes |0\\rangle = \n",
    "\\begin{pmatrix}\n",
    "0 \\\\ \n",
    "1\n",
    "\\end{pmatrix} \\otimes\n",
    "\\begin{pmatrix}\n",
    "1 \\\\ \n",
    "0\n",
    "\\end{pmatrix} = \n",
    "\\begin{pmatrix}\n",
    "0 \\\\ \n",
    "0 \\\\\n",
    "1 \\\\\n",
    "0\n",
    "\\end{pmatrix}\n",
    "$$\n",
    "</div>\n",
    "\n",
    "The tensor product is used to derive multi qubit gates as well. \n",
    "&nbsp;\n",
    "\n",
    "##### <span style=\"color: red;\">Exercise 6:</span> In a 2-qubit system, how many basis states do we have? Represent the basis state vectors using the tensor product.\n",
    "\n",
    "### Entanglement and Bloch sphere for multi-qubit states\n",
    "\n",
    "&nbsp;\n",
    "\n",
    "Since qubits can be entangled, multi-qubit states, in general, cannot be expressed by simply representing each qubit's Bloch sphere. This is because the dimension of the vector space rises exponentially with the number of qubits, to account for correlation between qubits. One attempt to visualize multi-qubit states is made [here](https://medium.com/qiskit/visualizing-bits-and-qubits-9af287047b28). \n",
    "\n",
    "**For a quantum system, its description is more than the sum of descriptions for each individual qubit.**\n",
    "\n",
    "For instance, the superposition over two qubits is **not** an entangled state:\n",
    "\n",
    "$$ |\\psi\\rangle = \\frac{1}{\\sqrt{2}}(|0\\rangle + |1\\rangle) \\otimes \\frac{1}{\\sqrt{2}}(|0\\rangle + |1\\rangle)$$\n",
    "\n",
    "However, a Bell state **cannot** be decomposed by the state of individual qubits.\n",
    "\n",
    "$$ |\\psi\\rangle = \\frac{1}{\\sqrt{2}}(|00\\rangle + |11\\rangle)$$\n",
    "\n"
   ]
  },
  {
   "cell_type": "markdown",
   "id": "02e4623d",
   "metadata": {},
   "source": [
    "##### <span style=\"color: red;\">EXERCISE 7:</span>\n",
    "Program a quantum circuit applying the hadamard gate to 2 qubits initialized in the ground state. Execute the circuit using qasm_simulator and obtain the probability distribution\n"
   ]
  },
  {
   "cell_type": "code",
   "execution_count": 28,
   "id": "f2093e98",
   "metadata": {},
   "outputs": [
    {
     "data": {
      "image/png": "[encoded data removed]",
      "text/plain": [
       "<Figure size 504x360 with 1 Axes>"
      ]
     },
     "execution_count": 28,
     "metadata": {},
     "output_type": "execute_result"
    }
   ],
   "source": [
    "qr = QuantumRegister(2)\n",
    "qc = QuantumCircuit(qr)\n",
    "\n",
    "qc.h(qr[0])\n",
    "qc.x(qr[1])\n",
    "qc.h(qr[1])\n",
    "\n",
    "qc.measure_all()\n",
    "\n",
    "counts = execute_circuit(qc,shots = 10000)\n",
    "\n",
    "plot_distribution(counts)"
   ]
  },
  {
   "cell_type": "markdown",
   "id": "4dd198e3",
   "metadata": {},
   "source": [
    "##### <span style=\"color: red;\">EXERCISE 8:</span>\n",
    "Program a quantum circuit that applies a rotation in the y direction to the state $|1\\rangle$ of $\\theta=\\frac{\\pi}{2}$.What state do we get ? Execute the circuit using qasm_simulator and plot the histogram\n"
   ]
  },
  {
   "cell_type": "code",
   "execution_count": 34,
   "id": "8d7e22d5",
   "metadata": {},
   "outputs": [
    {
     "data": {
      "image/png": "[encoded data removed]",
      "text/plain": [
       "<Figure size 297.479x144.48 with 1 Axes>"
      ]
     },
     "execution_count": 34,
     "metadata": {},
     "output_type": "execute_result"
    }
   ],
   "source": [
    "qc = QuantumCircuit(1)\n",
    "\n",
    "qc.ry(np.pi/2,0)\n",
    "qc.measure_all()\n",
    "qc.draw(output=\"mpl\")\n"
   ]
  },
  {
   "cell_type": "code",
   "execution_count": 35,
   "id": "a7a3a030",
   "metadata": {},
   "outputs": [
    {
     "data": {
      "image/png": "[encoded data removed]",
      "text/plain": [
       "<Figure size 504x360 with 1 Axes>"
      ]
     },
     "execution_count": 35,
     "metadata": {},
     "output_type": "execute_result"
    }
   ],
   "source": [
    "counts = execute_circuit(qc,shots = 10000)\n",
    "\n",
    "plot_distribution(counts)"
   ]
  },
  {
   "cell_type": "markdown",
   "id": "appreciated-tuition",
   "metadata": {},
   "source": [
    "&nbsp;\n",
    "\n",
    "## 3 Multi-qubit gates <a id='multi_op'></a>"
   ]
  },
  {
   "cell_type": "markdown",
   "id": "parliamentary-invention",
   "metadata": {},
   "source": [
    "Multiqubit gates:\n",
    "\n",
    "The matrix looks different from the rest of the bibliography because qiskit uses different definitions of least and most significant qubits.\n",
    "\n",
    "Let control be the the 0 qubit and the target the 1 qubit.\n",
    "\n",
    "|Gate Name|Syntax |Matrix|        \n",
    "|-|-|-|\n",
    "|Controlled-X or controlled-Not|qc.cx(qr\\[control\\],qr\\[target\\])|$CX = \\begin{bmatrix}1&0&0&0\\\\0&1&0&0\\\\0&0&0&1\\\\0&0&1&0\\end{bmatrix}$  |\n",
    "|Controlled-Y|qc.cy(qr\\[control\\],qr\\[target\\])|$CY = \\begin{bmatrix}1&0&0&0\\\\0&0&0&-i\\\\0&0&1&0\\\\0&i&0&0\\end{bmatrix}$   |\n",
    "|Controlled-Z or controlled-Phase|qc.cz(qr\\[control\\],qr\\[target\\])| $CZ =\\begin{bmatrix}1&0&0&0\\\\0&1&0&0\\\\0&0&1&0\\\\0&0&0&-1\\end{bmatrix}$  |\n",
    "|Controlled-Hadamard|qc.ch(qr\\[control\\],qr\\[target\\])|$CH = \\begin{bmatrix}1&0&0&0\\\\0&\\frac{1}{\\sqrt{2}}&0&\\frac{1}{\\sqrt{2}}\\\\0&0&1&0\\\\0&\\frac{1}{\\sqrt{2}}&0&-\\frac{1}{\\sqrt{2}}\\end{bmatrix}$  |\n",
    "|SWAP|qc.swap(qr\\[control\\],qr\\[target\\])| $SWAP =\\begin{bmatrix}1&0&0&0\\\\0&0&1&0\\\\0&1&0&0\\\\0&0&0&1\\end{bmatrix}$  |"
   ]
  },
  {
   "cell_type": "markdown",
   "id": "e4db26a6",
   "metadata": {},
   "source": [
    "&nbsp;\n",
    "\n",
    "### CNOT gate \n",
    "\n",
    "The controlled-NOT (or controlled-$X$) gate allows for the creation of entanglement between two qubits in a quantum circuit. The CNOT gate's action on basis states is to flip, i.e. apply an $X$ gate to, the target qubit (denoted as $\\oplus$ in quantum circuits) if the control qubit  (denoted as $\\bullet$), is $|1\\rangle$; otherwise the target qubit goes unchanged.\n",
    "\n",
    "The matrix describing a CNOT depends on which qubit acts as control. For a state $|q_1 q_0\\rangle$, if we apply a CNOT operation with $q_1$ as control, the matrix is described as:\n",
    "\n",
    "$$\n",
    "C_X = \n",
    "\\begin{pmatrix}\n",
    "1 & 0 & 0 & 0\\\\\n",
    "0 & 1 & 0 & 0\\\\\n",
    "0 & 0 & 0 & 1\\\\\n",
    "0 & 0 & 1 & 0\n",
    "\\end{pmatrix}\n",
    "$$"
   ]
  },
  {
   "cell_type": "markdown",
   "id": "8aaf6acd",
   "metadata": {},
   "source": [
    "##### <span style=\"color: red;\">EXERCISE 8:</span>\n",
    "Prepare the Bell state:\n",
    "\n",
    "$$ |\\psi\\rangle = \\frac{1}{\\sqrt{2}} \\biggl( |00\\rangle + |11\\rangle \\biggr) $$\n",
    "\n",
    "Plot the circuit. Execute the circuit using qasm_simulator.\n",
    "Why is it an entangled state ? "
   ]
  },
  {
   "cell_type": "code",
   "execution_count": 66,
   "id": "8a24aa54",
   "metadata": {},
   "outputs": [
    {
     "data": {
      "image/png": "[encoded data removed]",
      "text/plain": [
       "<Figure size 366.921x204.68 with 1 Axes>"
      ]
     },
     "execution_count": 66,
     "metadata": {},
     "output_type": "execute_result"
    }
   ],
   "source": [
    "qr = QuantumRegister(2)\n",
    "qc = QuantumCircuit(qr)\n",
    "\n",
    "qc.h(qr[0])\n",
    "\n",
    "qc.cx(qr[0],qr[1])\n",
    "\n",
    "qc.measure_all()\n",
    "\n",
    "qc.draw(output=\"mpl\")\n",
    "\n",
    "#counts = execute_circuit(qc,shots = 10000)\n",
    "\n",
    "#plot_distribution(counts)"
   ]
  },
  {
   "cell_type": "code",
   "execution_count": 67,
   "id": "c4f02959",
   "metadata": {},
   "outputs": [
    {
     "data": {
      "image/png": "[encoded data removed]",
      "text/plain": [
       "<Figure size 504x360 with 1 Axes>"
      ]
     },
     "execution_count": 67,
     "metadata": {},
     "output_type": "execute_result"
    }
   ],
   "source": [
    "counts = execute_circuit(qc,shots = 10000)\n",
    "\n",
    "plot_distribution(counts)"
   ]
  },
  {
   "cell_type": "markdown",
   "id": "da221716",
   "metadata": {},
   "source": [
    "##### <span style=\"color: red;\">EXERCISE 9:</span>\n",
    "What state do we get if we apply the following gates ? \n",
    "\n",
    "<p align=\"center\">\n",
    "  <img width=\"250\" height=\"200\" src=\"images/hhcx.png\">\n",
    "</p>\n",
    "\n",
    "Plot the circuit. Execute the circuit using qasm_simulator."
   ]
  },
  {
   "cell_type": "code",
   "execution_count": 38,
   "id": "4d3ff301",
   "metadata": {},
   "outputs": [
    {
     "data": {
      "image/png": "[encoded data removed]",
      "text/plain": [
       "<Figure size 417.879x204.68 with 1 Axes>"
      ]
     },
     "execution_count": 38,
     "metadata": {},
     "output_type": "execute_result"
    }
   ],
   "source": [
    "qr = QuantumRegister(2)\n",
    "qc = QuantumCircuit(qr)\n",
    "\n",
    "qc.h(qr[0])\n",
    "qc.x(qr[1])\n",
    "\n",
    "qc.cz(qr[0],qr[1])\n",
    "\n",
    "qc.measure_all()\n",
    "\n",
    "qc.draw(output=\"mpl\")\n",
    "\n",
    "#counts = execute_circuit(qc,shots = 10000)\n",
    "\n",
    "#plot_distribution(counts)"
   ]
  },
  {
   "cell_type": "code",
   "execution_count": 39,
   "id": "a1880b76",
   "metadata": {},
   "outputs": [
    {
     "data": {
      "image/png": "[encoded data removed]",
      "text/plain": [
       "<Figure size 504x360 with 1 Axes>"
      ]
     },
     "execution_count": 39,
     "metadata": {},
     "output_type": "execute_result"
    }
   ],
   "source": [
    "counts = execute_circuit(qc,shots = 10000)\n",
    "\n",
    "plot_distribution(counts)"
   ]
  },
  {
   "cell_type": "markdown",
   "id": "e9c28301",
   "metadata": {},
   "source": [
    "##### <span style=\"color: red;\">EXERCISE 10:</span>\n",
    "Use qiskit to show that we get the same state using each combination of gates.\n",
    "\n",
    "<p align=\"center\">\n",
    "  <img width=\"500\" height=\"200\" src=\"images/cx.png\">\n",
    "</p>\n",
    "\n",
    "Plot the circuit. Execute the circuit using qasm_simulator."
   ]
  },
  {
   "cell_type": "code",
   "execution_count": 70,
   "id": "af2d58f4",
   "metadata": {},
   "outputs": [
    {
     "data": {
      "image/png": "[encoded data removed]",
      "text/plain": [
       "<Figure size 426.975x204.68 with 1 Axes>"
      ]
     },
     "execution_count": 70,
     "metadata": {},
     "output_type": "execute_result"
    }
   ],
   "source": [
    "qr = QuantumRegister(2)\n",
    "qc = QuantumCircuit(qr)\n",
    "\n",
    "qc.ry(np.pi/2,0)\n",
    "\n",
    "#qc.h(qr)\n",
    "\n",
    "qc.cx(qr[0],qr[1])\n",
    "\n",
    "#qc.h(qr)\n",
    "\n",
    "qc.measure_all()\n",
    "\n",
    "qc.draw(output=\"mpl\")\n"
   ]
  },
  {
   "cell_type": "code",
   "execution_count": 71,
   "id": "749cfc30",
   "metadata": {},
   "outputs": [
    {
     "data": {
      "image/png": "[encoded data removed]",
      "text/plain": [
       "<Figure size 504x360 with 1 Axes>"
      ]
     },
     "execution_count": 71,
     "metadata": {},
     "output_type": "execute_result"
    }
   ],
   "source": [
    "\n",
    "counts = execute_circuit(qc,shots = 10000)\n",
    "plot_distribution(counts)"
   ]
  },
  {
   "cell_type": "markdown",
   "id": "60c7afad",
   "metadata": {},
   "source": [
    "### Toffoli gate \n",
    "\n",
    "The Toffoli gate is related to the classical AND and XOR operations in classical computing. \n",
    "\n",
    "$$\n",
    "CC_X = \n",
    "\\begin{pmatrix}\n",
    "1 & 0 & 0 & 0 & 0 & 0 & 0 & 0 \\\\\n",
    "0 & 1 & 0 & 0 & 0 & 0 & 0 & 0 \\\\\n",
    "0 & 0 & 1 & 0 & 0 & 0 & 0 & 0 \\\\\n",
    "0 & 0 & 0 & 1 & 0 & 0 & 0 & 0 \\\\\n",
    "0 & 0 & 0 & 0 & 1 & 0 & 0 & 0 \\\\\n",
    "0 & 0 & 0 & 0 & 0 & 1 & 0 & 0 \\\\\n",
    "0 & 0 & 0 & 0 & 0 & 0 & 0 & 1 \\\\\n",
    "0 & 0 & 0 & 0 & 0 & 0 & 1 & 0 \\\\\n",
    "\\end{pmatrix} \n",
    "$$\n"
   ]
  },
  {
   "cell_type": "markdown",
   "id": "6ddb48dc",
   "metadata": {},
   "source": [
    "##### <span style=\"color: red;\">EXERCISE 11:</span>\n",
    "Implement a circuit that applies a hadamard gate to the zero and first qubit, followed by a toffoli gate. Execute the circuit and plot the distribution"
   ]
  },
  {
   "cell_type": "code",
   "execution_count": 74,
   "id": "2b2277ac",
   "metadata": {},
   "outputs": [
    {
     "data": {
      "image/png": "[encoded data removed]",
      "text/plain": [
       "<Figure size 478.079x264.88 with 1 Axes>"
      ]
     },
     "execution_count": 74,
     "metadata": {},
     "output_type": "execute_result"
    }
   ],
   "source": [
    "qc = QuantumCircuit(3)\n",
    "qc.x([0,1])\n",
    "qc.ccx(0,1,2)\n",
    "qc.measure_all()\n",
    "qc.draw(output=\"mpl\")\n"
   ]
  },
  {
   "cell_type": "code",
   "execution_count": 75,
   "id": "9bc447ca",
   "metadata": {},
   "outputs": [
    {
     "data": {
      "image/png": "[encoded data removed]",
      "text/plain": [
       "<Figure size 504x360 with 1 Axes>"
      ]
     },
     "execution_count": 75,
     "metadata": {},
     "output_type": "execute_result"
    }
   ],
   "source": [
    "\n",
    "counts = execute_circuit(qc,shots = 10000)\n",
    "plot_distribution(counts)"
   ]
  },
  {
   "cell_type": "markdown",
   "id": "777bd409",
   "metadata": {},
   "source": [
    "##### <span style=\"color: red;\">EXERCISE 12:</span>\n",
    "Phase kickback: Prove that $X|-\\rangle = -|-\\rangle$.\n",
    "\n",
    "Show if there is phase kickback in the following operations:\n",
    "\n",
    "$CNOT |-0\\rangle$ and $CNOT |-1\\rangle$"
   ]
  },
  {
   "cell_type": "markdown",
   "id": "bottom-calcium",
   "metadata": {},
   "source": [
    "### Merging Circuits"
   ]
  },
  {
   "cell_type": "code",
   "execution_count": 76,
   "id": "atmospheric-professor",
   "metadata": {},
   "outputs": [
    {
     "data": {
      "image/png": "[encoded data removed]",
      "text/plain": [
       "<Figure size 146.652x204.68 with 1 Axes>"
      ]
     },
     "execution_count": 76,
     "metadata": {},
     "output_type": "execute_result"
    }
   ],
   "source": [
    "circuit = QuantumCircuit(2,1)\n",
    "circuit.h(0)\n",
    "circuit.draw(output='mpl')"
   ]
  },
  {
   "cell_type": "code",
   "execution_count": 77,
   "id": "09d30c93",
   "metadata": {},
   "outputs": [],
   "source": [
    "circuit_aux = QuantumCircuit(2,1)"
   ]
  },
  {
   "cell_type": "code",
   "execution_count": 78,
   "id": "united-article",
   "metadata": {},
   "outputs": [
    {
     "data": {
      "image/png": "[encoded data removed]",
      "text/plain": [
       "<Figure size 146.652x204.68 with 1 Axes>"
      ]
     },
     "execution_count": 78,
     "metadata": {},
     "output_type": "execute_result"
    }
   ],
   "source": [
    "circuit = circuit.compose(circuit_aux)\n",
    "circuit.draw(output='mpl')"
   ]
  },
  {
   "cell_type": "markdown",
   "id": "b3e761c9",
   "metadata": {},
   "source": [
    "DONE! Ciao for now :)"
   ]
  }
 ],
 "metadata": {
  "kernelspec": {
   "display_name": "Python 3",
   "language": "python",
   "name": "python3"
  },
  "language_info": {
   "codemirror_mode": {
    "name": "ipython",
    "version": 3
   },
   "file_extension": ".py",
   "mimetype": "text/x-python",
   "name": "python",
   "nbconvert_exporter": "python",
   "pygments_lexer": "ipython3",
   "version": "3.9.16"
  },
  "vscode": {
   "interpreter": {
    "hash": "62314c999a2395b70c6666201aadb026cfae52075e045b8f587202e06e575832"
   }
  }
 },
 "nbformat": 4,
 "nbformat_minor": 5
}
